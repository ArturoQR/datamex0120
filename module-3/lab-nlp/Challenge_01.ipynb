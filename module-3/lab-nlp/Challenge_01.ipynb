{
 "cells": [
  {
   "cell_type": "markdown",
   "metadata": {},
   "source": [
    "# Challenge 1: Natural Language Process Overview"
   ]
  },
  {
   "cell_type": "markdown",
   "metadata": {},
   "source": [
    "### In this challenge, we will present an overview of Natural Language Processing, or NLP. You will watch two videos to have a general understanding about NLP."
   ]
  },
  {
   "cell_type": "markdown",
   "metadata": {},
   "source": [
    "## Objectives"
   ]
  },
  {
   "cell_type": "markdown",
   "metadata": {},
   "source": [
    "* Understand what is NLP.\n",
    "* Learn about the general evolution of NLP technology.\n",
    "* Learn about the common areas of research in NLP.\n",
    "* Learn about the common applications of NLP.\n",
    "* Understand the general steps to conduct NLP analysis.\n",
    "* Install NLTK."
   ]
  },
  {
   "cell_type": "markdown",
   "metadata": {},
   "source": [
    "## Install NLTK"
   ]
  },
  {
   "cell_type": "markdown",
   "metadata": {},
   "source": [
    "### Before we start learning, let's first install [Python NLTK](https://www.nltk.org/) because it takes a while to download the package. Follow the steps below.\n",
    "\n",
    "#### 1. **Install NLTK:** \n",
    "\n",
    "If you have installed `pip` on your computer, simply run `pip install nltk`. If you don't have `pip`, follow the instructions [here](https://www.nltk.org/install.html).\n",
    "\n",
    "1. **Install NLTK data:** \n",
    "\n",
    "\tLaunch Python shell and execute\n",
    "\n",
    "\t```python\n",
    "\t import nltk\n",
    "\tnltd.download()\n",
    "\t```\n",
    "\n",
    "The data library is over 3gb and take a while to download. You can view the downloading progress in the download manager that is automatically opened by NLTK. While the data are being downloaded, proceed to the next section.\n",
    "\n",
    "For more information about downloading NLTK data, refer to [here](https://www.nltk.org/data.html)."
   ]
  },
  {
   "cell_type": "code",
   "execution_count": 3,
   "metadata": {},
   "outputs": [],
   "source": [
    "## Video 1: [Natural Language Processing Crash Course](https://www.youtube.com/watch?v=fOvTtapxa9c)"
   ]
  },
  {
   "cell_type": "markdown",
   "metadata": {},
   "source": [
    "Now your NLTK data library should have finished downloading. Confirm that in the download manager. Launch Python shell and test the installation:\n",
    "\n",
    "```python\n",
    "from nltk.corpus import brown"
   ]
  },
  {
   "cell_type": "code",
   "execution_count": 1,
   "metadata": {},
   "outputs": [],
   "source": [
    "import nltk"
   ]
  },
  {
   "cell_type": "code",
   "execution_count": 4,
   "metadata": {},
   "outputs": [
    {
     "name": "stderr",
     "output_type": "stream",
     "text": [
      "[nltk_data] Downloading package brown to\n",
      "[nltk_data]     C:\\Users\\aquir\\AppData\\Roaming\\nltk_data...\n",
      "[nltk_data]   Unzipping corpora\\brown.zip.\n"
     ]
    },
    {
     "data": {
      "text/plain": [
       "True"
      ]
     },
     "execution_count": 4,
     "metadata": {},
     "output_type": "execute_result"
    }
   ],
   "source": [
    "nltk.download(\"brown\")"
   ]
  },
  {
   "cell_type": "code",
   "execution_count": 5,
   "metadata": {},
   "outputs": [
    {
     "data": {
      "text/plain": [
       "['The',\n",
       " 'Fulton',\n",
       " 'County',\n",
       " 'Grand',\n",
       " 'Jury',\n",
       " 'said',\n",
       " 'Friday',\n",
       " 'an',\n",
       " 'investigation',\n",
       " 'of']"
      ]
     },
     "execution_count": 5,
     "metadata": {},
     "output_type": "execute_result"
    }
   ],
   "source": [
    "from nltk.corpus import brown\n",
    "brown.words()[0:10]"
   ]
  },
  {
   "cell_type": "code",
   "execution_count": 6,
   "metadata": {},
   "outputs": [
    {
     "data": {
      "text/plain": [
       "[('The', 'AT'),\n",
       " ('Fulton', 'NP-TL'),\n",
       " ('County', 'NN-TL'),\n",
       " ('Grand', 'JJ-TL'),\n",
       " ('Jury', 'NN-TL'),\n",
       " ('said', 'VBD'),\n",
       " ('Friday', 'NR'),\n",
       " ('an', 'AT'),\n",
       " ('investigation', 'NN'),\n",
       " ('of', 'IN')]"
      ]
     },
     "execution_count": 6,
     "metadata": {},
     "output_type": "execute_result"
    }
   ],
   "source": [
    "brown.tagged_words()[0:10]"
   ]
  },
  {
   "cell_type": "code",
   "execution_count": 15,
   "metadata": {},
   "outputs": [],
   "source": [
    "text = '''The cat (Felis catus) is a small carnivorous mammal. It is the only domesticated species in the\n",
    "family Felidae and often referred to as the domestic cat to distinguish it from wild members of the family.\n",
    "The cat is either a house cat, a farm cat or a feral cat; latter ranges freely and avoids human contact. Domestic\n",
    "cats are valued by humans for companionship and for their ability to hunt rodents. About 60 cat breeds are recognized\n",
    "by various cat registries.The cat is similar in anatomy to the other felid species, has a strong flexible body, quick\n",
    "reflexes, sharp teeth and retractable claws adapted to killing small prey. Its night vision and sense of smell are well\n",
    "developed. Cat communication includes vocalizations like meowing, purring, trilling, hissing, growling and grunting as\n",
    "well as cat-specific body language. It is a solitary hunter, but a social species. It can hear sounds too faint or too\n",
    "high in frequency for human ears, such as those made by mice and other small mammals. It is a predator that is most active\n",
    "at dawn and dusk. It secretes and perceives pheromones. Female domestic cats can have kittens from spring to late autumn,\n",
    "with litter sizes ranging from two to five kittens.[9] Domestic cats are bred and shown as registered pedigreed cats, a hobby\n",
    "known as cat fancy. Failure to control breeding of pet cats by spaying and neutering, as well as abandonment of pets, resulted\n",
    "in large numbers of feral cats worldwide, contributing to the extinction of entire bird species, and evoking population control.\n",
    "'''"
   ]
  },
  {
   "cell_type": "code",
   "execution_count": 16,
   "metadata": {},
   "outputs": [],
   "source": [
    "from nltk import sent_tokenize, word_tokenize"
   ]
  },
  {
   "cell_type": "code",
   "execution_count": 17,
   "metadata": {},
   "outputs": [
    {
     "name": "stderr",
     "output_type": "stream",
     "text": [
      "[nltk_data] Downloading package punkt to\n",
      "[nltk_data]     C:\\Users\\aquir\\AppData\\Roaming\\nltk_data...\n",
      "[nltk_data]   Package punkt is already up-to-date!\n"
     ]
    },
    {
     "data": {
      "text/plain": [
       "True"
      ]
     },
     "execution_count": 17,
     "metadata": {},
     "output_type": "execute_result"
    }
   ],
   "source": [
    "nltk.download('punkt')"
   ]
  },
  {
   "cell_type": "code",
   "execution_count": 18,
   "metadata": {},
   "outputs": [
    {
     "data": {
      "text/plain": [
       "['The cat (Felis catus) is a small carnivorous mammal.',\n",
       " 'It is the only domesticated species in the\\nfamily Felidae and often referred to as the domestic cat to distinguish it from wild members of the family.',\n",
       " 'The cat is either a house cat, a farm cat or a feral cat; latter ranges freely and avoids human contact.',\n",
       " 'Domestic\\ncats are valued by humans for companionship and for their ability to hunt rodents.',\n",
       " 'About 60 cat breeds are recognized\\nby various cat registries.The cat is similar in anatomy to the other felid species, has a strong flexible body, quick\\nreflexes, sharp teeth and retractable claws adapted to killing small prey.',\n",
       " 'Its night vision and sense of smell are well\\ndeveloped.',\n",
       " 'Cat communication includes vocalizations like meowing, purring, trilling, hissing, growling and grunting as\\nwell as cat-specific body language.',\n",
       " 'It is a solitary hunter, but a social species.',\n",
       " 'It can hear sounds too faint or too\\nhigh in frequency for human ears, such as those made by mice and other small mammals.',\n",
       " 'It is a predator that is most active\\nat dawn and dusk.',\n",
       " 'It secretes and perceives pheromones.',\n",
       " 'Female domestic cats can have kittens from spring to late autumn,\\nwith litter sizes ranging from two to five kittens.',\n",
       " '[9] Domestic cats are bred and shown as registered pedigreed cats, a hobby\\nknown as cat fancy.',\n",
       " 'Failure to control breeding of pet cats by spaying and neutering, as well as abandonment of pets, resulted\\nin large numbers of feral cats worldwide, contributing to the extinction of entire bird species, and evoking population control.']"
      ]
     },
     "execution_count": 18,
     "metadata": {},
     "output_type": "execute_result"
    }
   ],
   "source": [
    "sent_tokenize(text)"
   ]
  },
  {
   "cell_type": "code",
   "execution_count": null,
   "metadata": {},
   "outputs": [],
   "source": []
  }
 ],
 "metadata": {
  "kernelspec": {
   "display_name": "Python 3",
   "language": "python",
   "name": "python3"
  },
  "language_info": {
   "codemirror_mode": {
    "name": "ipython",
    "version": 3
   },
   "file_extension": ".py",
   "mimetype": "text/x-python",
   "name": "python",
   "nbconvert_exporter": "python",
   "pygments_lexer": "ipython3",
   "version": "3.7.4"
  }
 },
 "nbformat": 4,
 "nbformat_minor": 2
}
