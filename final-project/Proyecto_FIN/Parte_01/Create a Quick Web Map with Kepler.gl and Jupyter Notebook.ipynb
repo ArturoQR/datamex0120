{
 "cells": [
  {
   "cell_type": "markdown",
   "metadata": {},
   "source": [
    "Background: This tutorial uses any csv file with latitude and longitude columns in order to plot points on the web map. Make sure your csv file is saved in the same folder this notebook is saved (makes things easier). \n",
    "\n",
    "I recommend downloading the Anaconda Distribution which comes with jupyter notebook.\n",
    "\n",
    "There are 3 main important python libaries that are used in this tutorial\n",
    "\n",
    "1. Pandas: Pandas is a python library that is used for data analysis and manipulation.\n",
    "\n",
    "2. kepler.gl: This a FREE open source web-based application that is capable of handling large scale geospatial data to create beautiful visualizations.\n",
    "\n",
    "3. GeoPandas: Essentially, geopandas is an extension of Pandas; fully capable of handling and processing of geospatial data.\n",
    "\n",
    "First step is to navigate to the folder where you want this notebook to be saved from the main directory when juypter notebook is launched. Then click 'new' -> Python 3, a tab will open up with your notebook (See image below).\n",
    "\n",
    "Next, using the terminal it is important to have these libraries installed to ensure that this tutorial works and everything runs smoothly.\n",
    "\n",
    "For more information on jupyter notebook see: https://jupyter.org/\n",
    "\n",
    "Navigate back to the directory and open a terminal prompt via the 'new' Tab'. \n",
    "\n",
    "A new tab will open up, this will function very similarly to the command prompt on windows. Next type \"pip install pandas keplergl geopandas\" (do not include quotes). This process will help install these libraries.\n"
   ]
  },
  {
   "cell_type": "code",
   "execution_count": 1,
   "metadata": {
    "scrolled": true
   },
   "outputs": [
    {
     "data": {
      "text/html": [
       "<div>\n",
       "<style scoped>\n",
       "    .dataframe tbody tr th:only-of-type {\n",
       "        vertical-align: middle;\n",
       "    }\n",
       "\n",
       "    .dataframe tbody tr th {\n",
       "        vertical-align: top;\n",
       "    }\n",
       "\n",
       "    .dataframe thead th {\n",
       "        text-align: right;\n",
       "    }\n",
       "</style>\n",
       "<table border=\"1\" class=\"dataframe\">\n",
       "  <thead>\n",
       "    <tr style=\"text-align: right;\">\n",
       "      <th></th>\n",
       "      <th>cost_estimate</th>\n",
       "      <th>latitude</th>\n",
       "      <th>longitude</th>\n",
       "      <th>borough</th>\n",
       "      <th>job_type</th>\n",
       "      <th>permit_type</th>\n",
       "      <th>job_number</th>\n",
       "      <th>bin_number</th>\n",
       "      <th>square_footage</th>\n",
       "      <th>permit_issuance_date</th>\n",
       "      <th>job_location_house_number</th>\n",
       "      <th>job_location_street_name</th>\n",
       "      <th>proposed_occupancy_class</th>\n",
       "      <th>proposed_stories</th>\n",
       "      <th>proposed_dwelling_units</th>\n",
       "    </tr>\n",
       "  </thead>\n",
       "  <tbody>\n",
       "    <tr>\n",
       "      <td>0</td>\n",
       "      <td>282680</td>\n",
       "      <td>40.556881</td>\n",
       "      <td>-73.920731</td>\n",
       "      <td>Queens</td>\n",
       "      <td>NB</td>\n",
       "      <td>New Building</td>\n",
       "      <td>421619485</td>\n",
       "      <td>4466603</td>\n",
       "      <td>1910</td>\n",
       "      <td>10/18/2018</td>\n",
       "      <td>187</td>\n",
       "      <td>BEDFORD AVENUE</td>\n",
       "      <td>RESIDENTIAL: 1 &amp; 2 FAMILY HOUSES</td>\n",
       "      <td>3</td>\n",
       "      <td>1.0</td>\n",
       "    </tr>\n",
       "    <tr>\n",
       "      <td>1</td>\n",
       "      <td>423280</td>\n",
       "      <td>40.556881</td>\n",
       "      <td>-73.920731</td>\n",
       "      <td>Queens</td>\n",
       "      <td>NB</td>\n",
       "      <td>New Building</td>\n",
       "      <td>421642084</td>\n",
       "      <td>4618615</td>\n",
       "      <td>2860</td>\n",
       "      <td>10/18/2018</td>\n",
       "      <td>107</td>\n",
       "      <td>BEACH 219 STREET</td>\n",
       "      <td>RESIDENTIAL: 1 &amp; 2 FAMILY HOUSES</td>\n",
       "      <td>3</td>\n",
       "      <td>1.0</td>\n",
       "    </tr>\n",
       "    <tr>\n",
       "      <td>2</td>\n",
       "      <td>932400</td>\n",
       "      <td>40.624321</td>\n",
       "      <td>-73.942261</td>\n",
       "      <td>Brooklyn</td>\n",
       "      <td>NB</td>\n",
       "      <td>New Building</td>\n",
       "      <td>320913990</td>\n",
       "      <td>3208920</td>\n",
       "      <td>6300</td>\n",
       "      <td>10/18/2018</td>\n",
       "      <td>1281</td>\n",
       "      <td>EAST 34 STREET</td>\n",
       "      <td>RESIDENTIAL: 1 &amp; 2 FAMILY HOUSES</td>\n",
       "      <td>3</td>\n",
       "      <td>1.0</td>\n",
       "    </tr>\n",
       "    <tr>\n",
       "      <td>3</td>\n",
       "      <td>29600</td>\n",
       "      <td>40.624321</td>\n",
       "      <td>-73.942261</td>\n",
       "      <td>Brooklyn</td>\n",
       "      <td>NB</td>\n",
       "      <td>New Building</td>\n",
       "      <td>320916666</td>\n",
       "      <td>3208920</td>\n",
       "      <td>200</td>\n",
       "      <td>10/18/2018</td>\n",
       "      <td>1281</td>\n",
       "      <td>EAST 34 STREET</td>\n",
       "      <td>UTILITY / MISCELLANEOUS</td>\n",
       "      <td>1</td>\n",
       "      <td>NaN</td>\n",
       "    </tr>\n",
       "    <tr>\n",
       "      <td>4</td>\n",
       "      <td>316629</td>\n",
       "      <td>40.624760</td>\n",
       "      <td>-73.953552</td>\n",
       "      <td>Brooklyn</td>\n",
       "      <td>A1</td>\n",
       "      <td>ALT 1 Enlargement</td>\n",
       "      <td>321232368</td>\n",
       "      <td>3254329</td>\n",
       "      <td>404</td>\n",
       "      <td>10/18/2018</td>\n",
       "      <td>1052</td>\n",
       "      <td>EAST 23 STREET</td>\n",
       "      <td>RESIDENTIAL: 1 &amp; 2 FAMILY HOUSES</td>\n",
       "      <td>3</td>\n",
       "      <td>1.0</td>\n",
       "    </tr>\n",
       "  </tbody>\n",
       "</table>\n",
       "</div>"
      ],
      "text/plain": [
       "   cost_estimate   latitude  longitude   borough job_type        permit_type  \\\n",
       "0         282680  40.556881 -73.920731    Queens       NB       New Building   \n",
       "1         423280  40.556881 -73.920731    Queens       NB       New Building   \n",
       "2         932400  40.624321 -73.942261  Brooklyn       NB       New Building   \n",
       "3          29600  40.624321 -73.942261  Brooklyn       NB       New Building   \n",
       "4         316629  40.624760 -73.953552  Brooklyn       A1  ALT 1 Enlargement   \n",
       "\n",
       "   job_number  bin_number  square_footage permit_issuance_date  \\\n",
       "0   421619485     4466603            1910           10/18/2018   \n",
       "1   421642084     4618615            2860           10/18/2018   \n",
       "2   320913990     3208920            6300           10/18/2018   \n",
       "3   320916666     3208920             200           10/18/2018   \n",
       "4   321232368     3254329             404           10/18/2018   \n",
       "\n",
       "  job_location_house_number job_location_street_name  \\\n",
       "0                       187           BEDFORD AVENUE   \n",
       "1                       107         BEACH 219 STREET   \n",
       "2                      1281           EAST 34 STREET   \n",
       "3                      1281           EAST 34 STREET   \n",
       "4                      1052           EAST 23 STREET   \n",
       "\n",
       "           proposed_occupancy_class  proposed_stories  proposed_dwelling_units  \n",
       "0  RESIDENTIAL: 1 & 2 FAMILY HOUSES                 3                      1.0  \n",
       "1  RESIDENTIAL: 1 & 2 FAMILY HOUSES                 3                      1.0  \n",
       "2  RESIDENTIAL: 1 & 2 FAMILY HOUSES                 3                      1.0  \n",
       "3           UTILITY / MISCELLANEOUS                 1                      NaN  \n",
       "4  RESIDENTIAL: 1 & 2 FAMILY HOUSES                 3                      1.0  "
      ]
     },
     "execution_count": 1,
     "metadata": {},
     "output_type": "execute_result"
    }
   ],
   "source": [
    "import pandas as pd #importing the Pandas Library as 'pd'\n",
    "from keplergl import KeplerGl #importing KeplerGl\n",
    "import geopandas as gpd #importing geopandas as 'gpd'\n",
    "#Pandas in action below\n",
    "df = pd.read_csv(\"Active_construction.csv\")#Reading the active construction data set into pandas for processing\n",
    "df.head()#Checking to see if data was properly imported!"
   ]
  },
  {
   "cell_type": "markdown",
   "metadata": {},
   "source": [
    "Everything Works! So far... Next we want to create a placeholder map using Kepler.gl!"
   ]
  },
  {
   "cell_type": "code",
   "execution_count": 2,
   "metadata": {
    "scrolled": false
   },
   "outputs": [
    {
     "name": "stdout",
     "output_type": "stream",
     "text": [
      "User Guide: https://github.com/keplergl/kepler.gl/blob/master/docs/keplergl-jupyter/user-guide.md\n"
     ]
    },
    {
     "data": {
      "application/vnd.jupyter.widget-view+json": {
       "model_id": "c819832a8c6141e4b884e11c7de49379",
       "version_major": 2,
       "version_minor": 0
      },
      "text/plain": [
       "KeplerGl(height=600)"
      ]
     },
     "metadata": {},
     "output_type": "display_data"
    }
   ],
   "source": [
    "#Create a basemap \n",
    "map = KeplerGl(height=600, width=800)\n",
    "map #show the map"
   ]
  },
  {
   "cell_type": "markdown",
   "metadata": {},
   "source": [
    "Yup! This works too! Don't worry about the map not being centered on the location where your data lives. That comes next.\n",
    "\n",
    "Now we create a geoenabled dataframe to use our points to our #map"
   ]
  },
  {
   "cell_type": "code",
   "execution_count": 3,
   "metadata": {},
   "outputs": [],
   "source": [
    "# Create a geodataframe\n",
    "gdf = gpd.GeoDataFrame(df, geometry=gpd.points_from_xy(df.longitude, df.latitude))\n",
    "#make sure that your latitude and longitude are named as they are in your csv"
   ]
  },
  {
   "cell_type": "code",
   "execution_count": 4,
   "metadata": {},
   "outputs": [],
   "source": [
    "map.add_data(data=gdf, name=\"Construction\") #add geoenabled dataframe to map"
   ]
  },
  {
   "cell_type": "markdown",
   "metadata": {},
   "source": [
    "Thats it! Now you can style your map within your new web map."
   ]
  },
  {
   "cell_type": "code",
   "execution_count": null,
   "metadata": {},
   "outputs": [],
   "source": [
    "map.save_to_html(file_name='GeoVizJeremySingh.html') \n",
    "# if you wish to save your map as an .html you can run this command"
   ]
  }
 ],
 "metadata": {
  "kernelspec": {
   "display_name": "Python 3",
   "language": "python",
   "name": "python3"
  },
  "language_info": {
   "codemirror_mode": {
    "name": "ipython",
    "version": 3
   },
   "file_extension": ".py",
   "mimetype": "text/x-python",
   "name": "python",
   "nbconvert_exporter": "python",
   "pygments_lexer": "ipython3",
   "version": "3.7.4"
  }
 },
 "nbformat": 4,
 "nbformat_minor": 2
}
