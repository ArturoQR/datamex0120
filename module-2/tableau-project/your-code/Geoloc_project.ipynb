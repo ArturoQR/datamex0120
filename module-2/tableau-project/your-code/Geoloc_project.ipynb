{
 "cells": [
  {
   "cell_type": "markdown",
   "metadata": {},
   "source": [
    "# Ubicación de oficina para startup"
   ]
  },
  {
   "cell_type": "markdown",
   "metadata": {},
   "source": [
    "### Importación de librerías que pudiera precisar..."
   ]
  },
  {
   "cell_type": "code",
   "execution_count": 1,
   "metadata": {},
   "outputs": [],
   "source": [
    "import pandas as pd\n",
    "import numpy as np\n",
    "import folium\n",
    "from folium import plugins\n",
    "import pymongo\n",
    "from pandas.io.json import json_normalize"
   ]
  },
  {
   "cell_type": "markdown",
   "metadata": {},
   "source": [
    "#### 1.- Descripción cliente en general...\n",
    "1.- Mi cliente busca atender a distintas empresas de manufactura desarrollando software de tipo empresarial para sensores y\n",
    "mediciones.\n",
    "2.- Quiere basarse en la concentración de empresas asentadas cerca de las zonas urbanas que pudieran interesarle.\n",
    "3.- Le gustaría intentar asentarse en el medio Este o en el centro-sur de los Estados Unidos."
   ]
  },
  {
   "cell_type": "code",
   "execution_count": 2,
   "metadata": {},
   "outputs": [],
   "source": [
    "#Conexión a la base de datos en DBMongo...\n",
    "from pymongo import MongoClient\n",
    "client=MongoClient('mongodb://localhost:27017')"
   ]
  },
  {
   "cell_type": "code",
   "execution_count": 3,
   "metadata": {},
   "outputs": [],
   "source": [
    "#Lectura de la base de datos...\n",
    "db=client.companies"
   ]
  },
  {
   "cell_type": "code",
   "execution_count": 4,
   "metadata": {},
   "outputs": [],
   "source": [
    "data=db.data"
   ]
  },
  {
   "cell_type": "markdown",
   "metadata": {},
   "source": [
    "#### 2.- Filtrar la base de datos..."
   ]
  },
  {
   "cell_type": "code",
   "execution_count": 5,
   "metadata": {},
   "outputs": [],
   "source": [
    "#Hay que deshacernos de las empresas que ya se hayan depreciado...\n",
    "activas=db.companies.find({'deadpooled_year':{'$eq':None}},\n",
    "                                 {'name':1, '_id':0,'category_code':1,'offices':1,\n",
    "                                  'ipo.valuation_amount':1,'offices[0].state_code':1})"
   ]
  },
  {
   "cell_type": "code",
   "execution_count": 6,
   "metadata": {},
   "outputs": [
    {
     "data": {
      "text/html": [
       "<div>\n",
       "<style scoped>\n",
       "    .dataframe tbody tr th:only-of-type {\n",
       "        vertical-align: middle;\n",
       "    }\n",
       "\n",
       "    .dataframe tbody tr th {\n",
       "        vertical-align: top;\n",
       "    }\n",
       "\n",
       "    .dataframe thead th {\n",
       "        text-align: right;\n",
       "    }\n",
       "</style>\n",
       "<table border=\"1\" class=\"dataframe\">\n",
       "  <thead>\n",
       "    <tr style=\"text-align: right;\">\n",
       "      <th></th>\n",
       "      <th>name</th>\n",
       "      <th>category_code</th>\n",
       "      <th>offices</th>\n",
       "      <th>ipo</th>\n",
       "    </tr>\n",
       "  </thead>\n",
       "  <tbody>\n",
       "    <tr>\n",
       "      <td>0</td>\n",
       "      <td>Digg</td>\n",
       "      <td>news</td>\n",
       "      <td>[{'description': None, 'address1': '135 Missis...</td>\n",
       "      <td>NaN</td>\n",
       "    </tr>\n",
       "    <tr>\n",
       "      <td>1</td>\n",
       "      <td>Facebook</td>\n",
       "      <td>social</td>\n",
       "      <td>[{'description': 'Headquarters', 'address1': '...</td>\n",
       "      <td>{'valuation_amount': 104000000000}</td>\n",
       "    </tr>\n",
       "    <tr>\n",
       "      <td>2</td>\n",
       "      <td>Postini</td>\n",
       "      <td>web</td>\n",
       "      <td>[{'description': None, 'address1': '959 Skyway...</td>\n",
       "      <td>NaN</td>\n",
       "    </tr>\n",
       "    <tr>\n",
       "      <td>3</td>\n",
       "      <td>Geni</td>\n",
       "      <td>web</td>\n",
       "      <td>[{'description': 'Headquarters', 'address1': '...</td>\n",
       "      <td>NaN</td>\n",
       "    </tr>\n",
       "    <tr>\n",
       "      <td>4</td>\n",
       "      <td>Flektor</td>\n",
       "      <td>games_video</td>\n",
       "      <td>[{'description': None, 'address1': '8536 Natio...</td>\n",
       "      <td>NaN</td>\n",
       "    </tr>\n",
       "  </tbody>\n",
       "</table>\n",
       "</div>"
      ],
      "text/plain": [
       "       name category_code                                            offices  \\\n",
       "0      Digg          news  [{'description': None, 'address1': '135 Missis...   \n",
       "1  Facebook        social  [{'description': 'Headquarters', 'address1': '...   \n",
       "2   Postini           web  [{'description': None, 'address1': '959 Skyway...   \n",
       "3      Geni           web  [{'description': 'Headquarters', 'address1': '...   \n",
       "4   Flektor   games_video  [{'description': None, 'address1': '8536 Natio...   \n",
       "\n",
       "                                  ipo  \n",
       "0                                 NaN  \n",
       "1  {'valuation_amount': 104000000000}  \n",
       "2                                 NaN  \n",
       "3                                 NaN  \n",
       "4                                 NaN  "
      ]
     },
     "execution_count": 6,
     "metadata": {},
     "output_type": "execute_result"
    }
   ],
   "source": [
    "df=pd.DataFrame(activas)\n",
    "df.head()"
   ]
  },
  {
   "cell_type": "code",
   "execution_count": 7,
   "metadata": {},
   "outputs": [
    {
     "data": {
      "text/plain": [
       "(17872, 4)"
      ]
     },
     "execution_count": 7,
     "metadata": {},
     "output_type": "execute_result"
    }
   ],
   "source": [
    "#Vemos la cantidad de compañías que aún trabajan...\n",
    "df.shape\n",
    "#Son un total de 17872 empresas, entre pequeñas, medianas y grandes."
   ]
  },
  {
   "cell_type": "code",
   "execution_count": 8,
   "metadata": {},
   "outputs": [
    {
     "name": "stdout",
     "output_type": "stream",
     "text": [
      "{'social', 'messaging', 'transportation', 'nanotech', 'real_estate', 'hospitality', 'public_relations', 'finance', 'government', 'analytics', 'enterprise', 'semiconductor', 'sports', 'health', 'biotech', 'medical', 'cleantech', 'advertising', 'legal', 'education', 'ecommerce', 'network_hosting', 'local', None, 'hardware', 'photo_video', 'fashion', 'automotive', 'music', 'manufacturing', 'security', 'mobile', 'design', 'search', 'news', 'nonprofit', 'software', 'games_video', 'other', 'travel', 'consulting', 'web'}\n",
      "42\n"
     ]
    }
   ],
   "source": [
    "#Ahora es preciso revisar a qué se dedican\n",
    "activities=set(df.category_code.unique())\n",
    "print(activities)\n",
    "print(len(activities))\n",
    "#Son 42 campos de actividad de empresas activas entre chicas, medianas y grandes.."
   ]
  },
  {
   "cell_type": "code",
   "execution_count": 9,
   "metadata": {},
   "outputs": [
    {
     "data": {
      "text/html": [
       "<div>\n",
       "<style scoped>\n",
       "    .dataframe tbody tr th:only-of-type {\n",
       "        vertical-align: middle;\n",
       "    }\n",
       "\n",
       "    .dataframe tbody tr th {\n",
       "        vertical-align: top;\n",
       "    }\n",
       "\n",
       "    .dataframe thead th {\n",
       "        text-align: right;\n",
       "    }\n",
       "</style>\n",
       "<table border=\"1\" class=\"dataframe\">\n",
       "  <thead>\n",
       "    <tr style=\"text-align: right;\">\n",
       "      <th></th>\n",
       "      <th>name</th>\n",
       "      <th>category_code</th>\n",
       "      <th>offices</th>\n",
       "      <th>ipo</th>\n",
       "    </tr>\n",
       "  </thead>\n",
       "  <tbody>\n",
       "    <tr>\n",
       "      <td>0</td>\n",
       "      <td>Raydiance</td>\n",
       "      <td>manufacturing</td>\n",
       "      <td>[{'description': '', 'address1': 'Chevy Chase ...</td>\n",
       "      <td>NaN</td>\n",
       "    </tr>\n",
       "    <tr>\n",
       "      <td>1</td>\n",
       "      <td>SmartEquip</td>\n",
       "      <td>manufacturing</td>\n",
       "      <td>[{'description': 'Headquarters', 'address1': '...</td>\n",
       "      <td>NaN</td>\n",
       "    </tr>\n",
       "    <tr>\n",
       "      <td>2</td>\n",
       "      <td>Honeywell</td>\n",
       "      <td>manufacturing</td>\n",
       "      <td>[{'description': 'World Headquarters', 'addres...</td>\n",
       "      <td>{'valuation_amount': None}</td>\n",
       "    </tr>\n",
       "    <tr>\n",
       "      <td>3</td>\n",
       "      <td>Skycross</td>\n",
       "      <td>manufacturing</td>\n",
       "      <td>[{'description': '', 'address1': '7341 Office ...</td>\n",
       "      <td>NaN</td>\n",
       "    </tr>\n",
       "    <tr>\n",
       "      <td>4</td>\n",
       "      <td>Solyndra</td>\n",
       "      <td>manufacturing</td>\n",
       "      <td>[{'description': '', 'address1': '47488 Kato R...</td>\n",
       "      <td>NaN</td>\n",
       "    </tr>\n",
       "  </tbody>\n",
       "</table>\n",
       "</div>"
      ],
      "text/plain": [
       "         name  category_code  \\\n",
       "0   Raydiance  manufacturing   \n",
       "1  SmartEquip  manufacturing   \n",
       "2   Honeywell  manufacturing   \n",
       "3    Skycross  manufacturing   \n",
       "4    Solyndra  manufacturing   \n",
       "\n",
       "                                             offices  \\\n",
       "0  [{'description': '', 'address1': 'Chevy Chase ...   \n",
       "1  [{'description': 'Headquarters', 'address1': '...   \n",
       "2  [{'description': 'World Headquarters', 'addres...   \n",
       "3  [{'description': '', 'address1': '7341 Office ...   \n",
       "4  [{'description': '', 'address1': '47488 Kato R...   \n",
       "\n",
       "                          ipo  \n",
       "0                         NaN  \n",
       "1                         NaN  \n",
       "2  {'valuation_amount': None}  \n",
       "3                         NaN  \n",
       "4                         NaN  "
      ]
     },
     "execution_count": 9,
     "metadata": {},
     "output_type": "execute_result"
    }
   ],
   "source": [
    "#Hay que conseguir las ubicaciones de éstas empresas, por lo menos de la oficina 0... Como nos explicó Yonatan\n",
    "oficinas=db.companies.find({'$and': [{'deadpooled_year':{'$eq':None}},\\\n",
    "                                     {'offices':{'$not':{'$size':0}}},{'category_code':{'$eq':'manufacturing'}}]},\\\n",
    "                                     {'name':1, '_id':0,'category_code':1,'offices':1,\\\n",
    "                                      'ipo.valuation_amount':1})\n",
    "\n",
    "oficinas_df=pd.DataFrame(oficinas)\n",
    "oficinas_df.head()"
   ]
  },
  {
   "cell_type": "code",
   "execution_count": 10,
   "metadata": {},
   "outputs": [
    {
     "data": {
      "text/plain": [
       "(19, 4)"
      ]
     },
     "execution_count": 10,
     "metadata": {},
     "output_type": "execute_result"
    }
   ],
   "source": [
    "oficinas_df.shape"
   ]
  },
  {
   "cell_type": "code",
   "execution_count": 11,
   "metadata": {},
   "outputs": [],
   "source": [
    "#Uso la rutina de Yonatan para encontrar las oficinas \"centrales\" de las empresas de manufactura\n",
    "#que me quedan de la base de datos.\n",
    "def get_first(data):\n",
    "    data=data['offices']\n",
    "    \n",
    "    principal=None\n",
    "    \n",
    "    if data[0]['latitude'] and data[0]['longitude']:\n",
    "        principal={'type':'Point',\n",
    "                  'coordinates':[data[0]['longitude'],\n",
    "                                 data[0]['latitude']]}\n",
    "        \n",
    "    return {'totalOffices':len(data),\n",
    "           'lat':data[0]['latitude'],\n",
    "           'lng':data[0]['longitude'],\n",
    "            'oficina_principal':principal}"
   ]
  },
  {
   "cell_type": "code",
   "execution_count": 12,
   "metadata": {},
   "outputs": [],
   "source": [
    "first_office=oficinas_df[['offices']].apply(get_first, result_type='expand', axis=1)"
   ]
  },
  {
   "cell_type": "code",
   "execution_count": 13,
   "metadata": {},
   "outputs": [
    {
     "data": {
      "text/html": [
       "<div>\n",
       "<style scoped>\n",
       "    .dataframe tbody tr th:only-of-type {\n",
       "        vertical-align: middle;\n",
       "    }\n",
       "\n",
       "    .dataframe tbody tr th {\n",
       "        vertical-align: top;\n",
       "    }\n",
       "\n",
       "    .dataframe thead th {\n",
       "        text-align: right;\n",
       "    }\n",
       "</style>\n",
       "<table border=\"1\" class=\"dataframe\">\n",
       "  <thead>\n",
       "    <tr style=\"text-align: right;\">\n",
       "      <th></th>\n",
       "      <th>totalOffices</th>\n",
       "      <th>lat</th>\n",
       "      <th>lng</th>\n",
       "      <th>oficina_principal</th>\n",
       "    </tr>\n",
       "  </thead>\n",
       "  <tbody>\n",
       "    <tr>\n",
       "      <td>0</td>\n",
       "      <td>1.0</td>\n",
       "      <td>38.965240</td>\n",
       "      <td>-77.083389</td>\n",
       "      <td>{'type': 'Point', 'coordinates': [-77.083389, ...</td>\n",
       "    </tr>\n",
       "    <tr>\n",
       "      <td>1</td>\n",
       "      <td>2.0</td>\n",
       "      <td>41.143608</td>\n",
       "      <td>-73.427439</td>\n",
       "      <td>{'type': 'Point', 'coordinates': [-73.427439, ...</td>\n",
       "    </tr>\n",
       "    <tr>\n",
       "      <td>2</td>\n",
       "      <td>1.0</td>\n",
       "      <td>40.795862</td>\n",
       "      <td>-74.455515</td>\n",
       "      <td>{'type': 'Point', 'coordinates': [-74.455515, ...</td>\n",
       "    </tr>\n",
       "    <tr>\n",
       "      <td>3</td>\n",
       "      <td>1.0</td>\n",
       "      <td>NaN</td>\n",
       "      <td>NaN</td>\n",
       "      <td>NaN</td>\n",
       "    </tr>\n",
       "    <tr>\n",
       "      <td>4</td>\n",
       "      <td>1.0</td>\n",
       "      <td>37.475721</td>\n",
       "      <td>-121.931712</td>\n",
       "      <td>{'type': 'Point', 'coordinates': [-121.9317123...</td>\n",
       "    </tr>\n",
       "    <tr>\n",
       "      <td>5</td>\n",
       "      <td>1.0</td>\n",
       "      <td>37.371138</td>\n",
       "      <td>-121.998365</td>\n",
       "      <td>{'type': 'Point', 'coordinates': [-121.998365,...</td>\n",
       "    </tr>\n",
       "    <tr>\n",
       "      <td>6</td>\n",
       "      <td>1.0</td>\n",
       "      <td>33.325335</td>\n",
       "      <td>-111.859162</td>\n",
       "      <td>{'type': 'Point', 'coordinates': [-111.8591619...</td>\n",
       "    </tr>\n",
       "    <tr>\n",
       "      <td>7</td>\n",
       "      <td>1.0</td>\n",
       "      <td>29.539901</td>\n",
       "      <td>-95.064003</td>\n",
       "      <td>{'type': 'Point', 'coordinates': [-95.064003, ...</td>\n",
       "    </tr>\n",
       "    <tr>\n",
       "      <td>8</td>\n",
       "      <td>1.0</td>\n",
       "      <td>NaN</td>\n",
       "      <td>NaN</td>\n",
       "      <td>NaN</td>\n",
       "    </tr>\n",
       "    <tr>\n",
       "      <td>9</td>\n",
       "      <td>1.0</td>\n",
       "      <td>37.383175</td>\n",
       "      <td>-121.915418</td>\n",
       "      <td>{'type': 'Point', 'coordinates': [-121.915418,...</td>\n",
       "    </tr>\n",
       "    <tr>\n",
       "      <td>10</td>\n",
       "      <td>1.0</td>\n",
       "      <td>NaN</td>\n",
       "      <td>NaN</td>\n",
       "      <td>NaN</td>\n",
       "    </tr>\n",
       "    <tr>\n",
       "      <td>11</td>\n",
       "      <td>1.0</td>\n",
       "      <td>NaN</td>\n",
       "      <td>NaN</td>\n",
       "      <td>NaN</td>\n",
       "    </tr>\n",
       "    <tr>\n",
       "      <td>12</td>\n",
       "      <td>2.0</td>\n",
       "      <td>37.394118</td>\n",
       "      <td>-122.035378</td>\n",
       "      <td>{'type': 'Point', 'coordinates': [-122.035378,...</td>\n",
       "    </tr>\n",
       "    <tr>\n",
       "      <td>13</td>\n",
       "      <td>1.0</td>\n",
       "      <td>NaN</td>\n",
       "      <td>NaN</td>\n",
       "      <td>NaN</td>\n",
       "    </tr>\n",
       "    <tr>\n",
       "      <td>14</td>\n",
       "      <td>1.0</td>\n",
       "      <td>35.052800</td>\n",
       "      <td>-118.173100</td>\n",
       "      <td>{'type': 'Point', 'coordinates': [-118.1731, 3...</td>\n",
       "    </tr>\n",
       "    <tr>\n",
       "      <td>15</td>\n",
       "      <td>1.0</td>\n",
       "      <td>51.087738</td>\n",
       "      <td>-113.991642</td>\n",
       "      <td>{'type': 'Point', 'coordinates': [-113.991642,...</td>\n",
       "    </tr>\n",
       "    <tr>\n",
       "      <td>16</td>\n",
       "      <td>1.0</td>\n",
       "      <td>42.225617</td>\n",
       "      <td>-71.179801</td>\n",
       "      <td>{'type': 'Point', 'coordinates': [-71.179801, ...</td>\n",
       "    </tr>\n",
       "    <tr>\n",
       "      <td>17</td>\n",
       "      <td>1.0</td>\n",
       "      <td>42.525898</td>\n",
       "      <td>-71.266340</td>\n",
       "      <td>{'type': 'Point', 'coordinates': [-71.26634, 4...</td>\n",
       "    </tr>\n",
       "    <tr>\n",
       "      <td>18</td>\n",
       "      <td>2.0</td>\n",
       "      <td>NaN</td>\n",
       "      <td>NaN</td>\n",
       "      <td>NaN</td>\n",
       "    </tr>\n",
       "  </tbody>\n",
       "</table>\n",
       "</div>"
      ],
      "text/plain": [
       "    totalOffices        lat         lng  \\\n",
       "0            1.0  38.965240  -77.083389   \n",
       "1            2.0  41.143608  -73.427439   \n",
       "2            1.0  40.795862  -74.455515   \n",
       "3            1.0        NaN         NaN   \n",
       "4            1.0  37.475721 -121.931712   \n",
       "5            1.0  37.371138 -121.998365   \n",
       "6            1.0  33.325335 -111.859162   \n",
       "7            1.0  29.539901  -95.064003   \n",
       "8            1.0        NaN         NaN   \n",
       "9            1.0  37.383175 -121.915418   \n",
       "10           1.0        NaN         NaN   \n",
       "11           1.0        NaN         NaN   \n",
       "12           2.0  37.394118 -122.035378   \n",
       "13           1.0        NaN         NaN   \n",
       "14           1.0  35.052800 -118.173100   \n",
       "15           1.0  51.087738 -113.991642   \n",
       "16           1.0  42.225617  -71.179801   \n",
       "17           1.0  42.525898  -71.266340   \n",
       "18           2.0        NaN         NaN   \n",
       "\n",
       "                                    oficina_principal  \n",
       "0   {'type': 'Point', 'coordinates': [-77.083389, ...  \n",
       "1   {'type': 'Point', 'coordinates': [-73.427439, ...  \n",
       "2   {'type': 'Point', 'coordinates': [-74.455515, ...  \n",
       "3                                                 NaN  \n",
       "4   {'type': 'Point', 'coordinates': [-121.9317123...  \n",
       "5   {'type': 'Point', 'coordinates': [-121.998365,...  \n",
       "6   {'type': 'Point', 'coordinates': [-111.8591619...  \n",
       "7   {'type': 'Point', 'coordinates': [-95.064003, ...  \n",
       "8                                                 NaN  \n",
       "9   {'type': 'Point', 'coordinates': [-121.915418,...  \n",
       "10                                                NaN  \n",
       "11                                                NaN  \n",
       "12  {'type': 'Point', 'coordinates': [-122.035378,...  \n",
       "13                                                NaN  \n",
       "14  {'type': 'Point', 'coordinates': [-118.1731, 3...  \n",
       "15  {'type': 'Point', 'coordinates': [-113.991642,...  \n",
       "16  {'type': 'Point', 'coordinates': [-71.179801, ...  \n",
       "17  {'type': 'Point', 'coordinates': [-71.26634, 4...  \n",
       "18                                                NaN  "
      ]
     },
     "execution_count": 13,
     "metadata": {},
     "output_type": "execute_result"
    }
   ],
   "source": [
    "first_office"
   ]
  },
  {
   "cell_type": "code",
   "execution_count": 14,
   "metadata": {},
   "outputs": [],
   "source": [
    "#Tiramos las que tienen Nan para ver de forma efectiva cuántas quedan...\n",
    "first_office=first_office.dropna()"
   ]
  },
  {
   "cell_type": "code",
   "execution_count": 15,
   "metadata": {},
   "outputs": [
    {
     "data": {
      "text/html": [
       "<div>\n",
       "<style scoped>\n",
       "    .dataframe tbody tr th:only-of-type {\n",
       "        vertical-align: middle;\n",
       "    }\n",
       "\n",
       "    .dataframe tbody tr th {\n",
       "        vertical-align: top;\n",
       "    }\n",
       "\n",
       "    .dataframe thead th {\n",
       "        text-align: right;\n",
       "    }\n",
       "</style>\n",
       "<table border=\"1\" class=\"dataframe\">\n",
       "  <thead>\n",
       "    <tr style=\"text-align: right;\">\n",
       "      <th></th>\n",
       "      <th>totalOffices</th>\n",
       "      <th>lat</th>\n",
       "      <th>lng</th>\n",
       "      <th>oficina_principal</th>\n",
       "    </tr>\n",
       "  </thead>\n",
       "  <tbody>\n",
       "    <tr>\n",
       "      <td>0</td>\n",
       "      <td>1.0</td>\n",
       "      <td>38.965240</td>\n",
       "      <td>-77.083389</td>\n",
       "      <td>{'type': 'Point', 'coordinates': [-77.083389, ...</td>\n",
       "    </tr>\n",
       "    <tr>\n",
       "      <td>1</td>\n",
       "      <td>2.0</td>\n",
       "      <td>41.143608</td>\n",
       "      <td>-73.427439</td>\n",
       "      <td>{'type': 'Point', 'coordinates': [-73.427439, ...</td>\n",
       "    </tr>\n",
       "    <tr>\n",
       "      <td>2</td>\n",
       "      <td>1.0</td>\n",
       "      <td>40.795862</td>\n",
       "      <td>-74.455515</td>\n",
       "      <td>{'type': 'Point', 'coordinates': [-74.455515, ...</td>\n",
       "    </tr>\n",
       "    <tr>\n",
       "      <td>4</td>\n",
       "      <td>1.0</td>\n",
       "      <td>37.475721</td>\n",
       "      <td>-121.931712</td>\n",
       "      <td>{'type': 'Point', 'coordinates': [-121.9317123...</td>\n",
       "    </tr>\n",
       "    <tr>\n",
       "      <td>5</td>\n",
       "      <td>1.0</td>\n",
       "      <td>37.371138</td>\n",
       "      <td>-121.998365</td>\n",
       "      <td>{'type': 'Point', 'coordinates': [-121.998365,...</td>\n",
       "    </tr>\n",
       "  </tbody>\n",
       "</table>\n",
       "</div>"
      ],
      "text/plain": [
       "   totalOffices        lat         lng  \\\n",
       "0           1.0  38.965240  -77.083389   \n",
       "1           2.0  41.143608  -73.427439   \n",
       "2           1.0  40.795862  -74.455515   \n",
       "4           1.0  37.475721 -121.931712   \n",
       "5           1.0  37.371138 -121.998365   \n",
       "\n",
       "                                   oficina_principal  \n",
       "0  {'type': 'Point', 'coordinates': [-77.083389, ...  \n",
       "1  {'type': 'Point', 'coordinates': [-73.427439, ...  \n",
       "2  {'type': 'Point', 'coordinates': [-74.455515, ...  \n",
       "4  {'type': 'Point', 'coordinates': [-121.9317123...  \n",
       "5  {'type': 'Point', 'coordinates': [-121.998365,...  "
      ]
     },
     "execution_count": 15,
     "metadata": {},
     "output_type": "execute_result"
    }
   ],
   "source": [
    "first_office.head()"
   ]
  },
  {
   "cell_type": "code",
   "execution_count": 16,
   "metadata": {},
   "outputs": [
    {
     "data": {
      "text/plain": [
       "(13, 4)"
      ]
     },
     "execution_count": 16,
     "metadata": {},
     "output_type": "execute_result"
    }
   ],
   "source": [
    "first_office.shape\n",
    "#Son pocas ubicaciones, se generará mapa para verificar la ubicación de forma inicial..."
   ]
  },
  {
   "cell_type": "code",
   "execution_count": 17,
   "metadata": {},
   "outputs": [
    {
     "data": {
      "text/html": [
       "<div style=\"width:100%;\"><div style=\"position:relative;width:100%;height:0;padding-bottom:60%;\"><iframe src=\"data:text/html;charset=utf-8;base64,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\" style=\"position:absolute;width:100%;height:100%;left:0;top:0;border:none !important;\" allowfullscreen webkitallowfullscreen mozallowfullscreen></iframe></div></div>"
      ],
      "text/plain": [
       "<folium.folium.Map at 0x189cf006908>"
      ]
     },
     "execution_count": 17,
     "metadata": {},
     "output_type": "execute_result"
    }
   ],
   "source": [
    "df3=first_office[['lat','lng']].values\n",
    "map_us=folium.Map(location=[39.359337,-99.415253])\n",
    "map_us.add_child(plugins.HeatMap(df3))"
   ]
  },
  {
   "cell_type": "markdown",
   "metadata": {},
   "source": [
    "\n",
    "#### De acuerdo con el mapa, la mancha de calor inicialmente indicaría que la concentración más grande de empresas de manufactura que podría interesar a mio cliente es en la costa Este de los Estados Unidos. Sin embargo en un caso realista, sabemos que en los Estados Unidos hay miles de empresas manufactureras de diversa índole."
   ]
  },
  {
   "cell_type": "markdown",
   "metadata": {},
   "source": [
    "#### Para hacer el ejemplo un poco más realista, voy a intentar extraer datos en un archivo kml de Googlemaps para aumentar la cantidad de puntos de empresas manufactureras, aunque sea como unos pocos ejemplos...."
   ]
  },
  {
   "cell_type": "markdown",
   "metadata": {},
   "source": [
    "### De Googlemaps obtuve una serie de ubicaciones aproximadas de diversas empresas manufactureras de diversa índole, y exporté un archivo kmz. De lo que he revisado, un archivo kmz es un *.zip que tiene un doc.kml, así como un folder con las imágenes e íconos que hacen referencia a éste, tomaré doc.kml, que es el archivo dentro del kmz para extraer solo las ubicaciones e insertarlas en el dataframe que ya tenemos para ver cómo cambia el heatmap de potenciales ciudades para la ubicación de su startup..."
   ]
  },
  {
   "cell_type": "code",
   "execution_count": 22,
   "metadata": {},
   "outputs": [
    {
     "data": {
      "text/html": [
       "<div>\n",
       "<style scoped>\n",
       "    .dataframe tbody tr th:only-of-type {\n",
       "        vertical-align: middle;\n",
       "    }\n",
       "\n",
       "    .dataframe tbody tr th {\n",
       "        vertical-align: top;\n",
       "    }\n",
       "\n",
       "    .dataframe thead th {\n",
       "        text-align: right;\n",
       "    }\n",
       "</style>\n",
       "<table border=\"1\" class=\"dataframe\">\n",
       "  <thead>\n",
       "    <tr style=\"text-align: right;\">\n",
       "      <th></th>\n",
       "      <th>lat</th>\n",
       "      <th>lng</th>\n",
       "    </tr>\n",
       "  </thead>\n",
       "  <tbody>\n",
       "    <tr>\n",
       "      <td>0</td>\n",
       "      <td>38.965240</td>\n",
       "      <td>-77.083389</td>\n",
       "    </tr>\n",
       "    <tr>\n",
       "      <td>1</td>\n",
       "      <td>41.143608</td>\n",
       "      <td>-73.427439</td>\n",
       "    </tr>\n",
       "    <tr>\n",
       "      <td>2</td>\n",
       "      <td>40.795862</td>\n",
       "      <td>-74.455515</td>\n",
       "    </tr>\n",
       "    <tr>\n",
       "      <td>3</td>\n",
       "      <td>37.475721</td>\n",
       "      <td>-121.931712</td>\n",
       "    </tr>\n",
       "    <tr>\n",
       "      <td>4</td>\n",
       "      <td>37.371138</td>\n",
       "      <td>-121.998365</td>\n",
       "    </tr>\n",
       "  </tbody>\n",
       "</table>\n",
       "</div>"
      ],
      "text/plain": [
       "         lat         lng\n",
       "0  38.965240  -77.083389\n",
       "1  41.143608  -73.427439\n",
       "2  40.795862  -74.455515\n",
       "3  37.475721 -121.931712\n",
       "4  37.371138 -121.998365"
      ]
     },
     "execution_count": 22,
     "metadata": {},
     "output_type": "execute_result"
    }
   ],
   "source": [
    "#Obtengo solo las ubicaciones para no tener problemas en juntar los nuevos datos del archiv kml que obtuve de googlemaps...\n",
    "df3 = pd.DataFrame(zip(first_office.lat, first_office.lng))\n",
    "df3.rename(columns={0: \"lat\", 1: \"lng\"}, inplace=True)\n",
    "df3.head()"
   ]
  },
  {
   "cell_type": "code",
   "execution_count": null,
   "metadata": {},
   "outputs": [],
   "source": [
    "# Traté de usar esta librería de opengis, pero no me ha permitido instalarla en jupyter de forma correcta, por lo que lo haré\n",
    "#de manera directa para leer un xml...\n",
    "#pip install gdal .... Este no está descargando correctamente"
   ]
  },
  {
   "cell_type": "code",
   "execution_count": 18,
   "metadata": {
    "collapsed": true
   },
   "outputs": [
    {
     "ename": "ModuleNotFoundError",
     "evalue": "No module named 'osgeo'",
     "output_type": "error",
     "traceback": [
      "\u001b[1;31m---------------------------------------------------------------------------\u001b[0m",
      "\u001b[1;31mModuleNotFoundError\u001b[0m                       Traceback (most recent call last)",
      "\u001b[1;32m<ipython-input-18-3e149ce8fce3>\u001b[0m in \u001b[0;36m<module>\u001b[1;34m\u001b[0m\n\u001b[1;32m----> 1\u001b[1;33m \u001b[1;32mfrom\u001b[0m \u001b[0mosgeo\u001b[0m \u001b[1;32mimport\u001b[0m \u001b[0mogr\u001b[0m\u001b[1;33m\u001b[0m\u001b[1;33m\u001b[0m\u001b[0m\n\u001b[0m\u001b[0;32m      2\u001b[0m \u001b[1;33m\u001b[0m\u001b[0m\n\u001b[0;32m      3\u001b[0m \u001b[0mds\u001b[0m \u001b[1;33m=\u001b[0m \u001b[0mogr\u001b[0m\u001b[1;33m.\u001b[0m\u001b[0mOpen\u001b[0m\u001b[1;33m(\u001b[0m\u001b[1;34m'doc.kml'\u001b[0m\u001b[1;33m)\u001b[0m\u001b[1;33m\u001b[0m\u001b[1;33m\u001b[0m\u001b[0m\n\u001b[0;32m      4\u001b[0m \u001b[1;33m\u001b[0m\u001b[0m\n\u001b[0;32m      5\u001b[0m \u001b[1;32mfor\u001b[0m \u001b[0mlyr\u001b[0m \u001b[1;32min\u001b[0m \u001b[0mds\u001b[0m\u001b[1;33m:\u001b[0m\u001b[1;33m\u001b[0m\u001b[1;33m\u001b[0m\u001b[0m\n",
      "\u001b[1;31mModuleNotFoundError\u001b[0m: No module named 'osgeo'"
     ]
    }
   ],
   "source": [
    "#from osgeo import ogr\n",
    "\n",
    "#ds = ogr.Open('doc.kml')\n",
    "\n",
    "#for lyr in ds:\n",
    "#    for feat in lyr:\n",
    "#        geom = feat.GetGeometryRef()\n",
    "#        if geom != None:\n",
    "#            for i in range(0, geom.GetPointCount()):\n",
    "#                print (geom.GetPoint(i))"
   ]
  },
  {
   "cell_type": "code",
   "execution_count": 84,
   "metadata": {
    "collapsed": true
   },
   "outputs": [
    {
     "name": "stdout",
     "output_type": "stream",
     "text": [
      "Collecting simplekml\n",
      "  Downloading https://files.pythonhosted.org/packages/39/e9/19be41775c14c70b247b12763bb4768084918642f02911f3b4ed5ddf47f8/simplekml-1.3.3.tar.gz\n",
      "Building wheels for collected packages: simplekml\n",
      "  Building wheel for simplekml (setup.py): started\n",
      "  Building wheel for simplekml (setup.py): finished with status 'done'\n",
      "  Created wheel for simplekml: filename=simplekml-1.3.3-cp37-none-any.whl size=51388 sha256=ebc7c16f4558758bf9abee7ea8d80b1e9749748106e537cc4ea6ccac215adbbd\n",
      "  Stored in directory: C:\\Users\\Arturo\\AppData\\Local\\pip\\Cache\\wheels\\16\\e6\\f2\\4f58e4252de73f6931fc64a013f290c9a9c285631ba8f49ac3\n",
      "Successfully built simplekml\n",
      "Installing collected packages: simplekml\n",
      "Successfully installed simplekml-1.3.3\n",
      "Note: you may need to restart the kernel to use updated packages.\n"
     ]
    }
   ],
   "source": [
    "#pip install simplekml"
   ]
  },
  {
   "cell_type": "code",
   "execution_count": 23,
   "metadata": {},
   "outputs": [],
   "source": [
    "#Importamos BS4 y csv\n",
    "from bs4 import BeautifulSoup\n",
    "import csv\n",
    "\n",
    "def process_coordinate_string(str):\n",
    "\n",
    "#Se efectúa la lectura de archivo de los datos de localización y se hace el split de ambas coordenadas geográficas..\n",
    "\n",
    "    ret = []\n",
    "    comma_split = str.split(',')\n",
    "    return [comma_split[1], comma_split[0]]\n",
    "\n",
    "def main():\n",
    "\n",
    "#Abrimos el kml y vamos leyendo renglón por renglón...\n",
    "\n",
    "    with open('doc.kml', 'r') as f:\n",
    "        s = BeautifulSoup(f, 'xml')\n",
    "        with open('out.csv', 'w', newline='') as csvfile:\n",
    "            writer = csv.writer(csvfile)\n",
    "            for coords in s.find_all('coordinates'):\n",
    "                writer.writerow(process_coordinate_string(coords.string))\n",
    "\n",
    "main()"
   ]
  },
  {
   "cell_type": "code",
   "execution_count": 24,
   "metadata": {},
   "outputs": [
    {
     "data": {
      "text/html": [
       "<div>\n",
       "<style scoped>\n",
       "    .dataframe tbody tr th:only-of-type {\n",
       "        vertical-align: middle;\n",
       "    }\n",
       "\n",
       "    .dataframe tbody tr th {\n",
       "        vertical-align: top;\n",
       "    }\n",
       "\n",
       "    .dataframe thead th {\n",
       "        text-align: right;\n",
       "    }\n",
       "</style>\n",
       "<table border=\"1\" class=\"dataframe\">\n",
       "  <thead>\n",
       "    <tr style=\"text-align: right;\">\n",
       "      <th></th>\n",
       "      <th>lat</th>\n",
       "      <th>lng</th>\n",
       "    </tr>\n",
       "  </thead>\n",
       "  <tbody>\n",
       "    <tr>\n",
       "      <td>0</td>\n",
       "      <td>39.884640</td>\n",
       "      <td>-86.249519</td>\n",
       "    </tr>\n",
       "    <tr>\n",
       "      <td>1</td>\n",
       "      <td>25.887089</td>\n",
       "      <td>-80.209735</td>\n",
       "    </tr>\n",
       "    <tr>\n",
       "      <td>2</td>\n",
       "      <td>37.067828</td>\n",
       "      <td>-84.988804</td>\n",
       "    </tr>\n",
       "    <tr>\n",
       "      <td>3</td>\n",
       "      <td>31.497672</td>\n",
       "      <td>-97.198261</td>\n",
       "    </tr>\n",
       "    <tr>\n",
       "      <td>4</td>\n",
       "      <td>36.041366</td>\n",
       "      <td>-79.958070</td>\n",
       "    </tr>\n",
       "  </tbody>\n",
       "</table>\n",
       "</div>"
      ],
      "text/plain": [
       "         lat        lng\n",
       "0  39.884640 -86.249519\n",
       "1  25.887089 -80.209735\n",
       "2  37.067828 -84.988804\n",
       "3  31.497672 -97.198261\n",
       "4  36.041366 -79.958070"
      ]
     },
     "execution_count": 24,
     "metadata": {},
     "output_type": "execute_result"
    }
   ],
   "source": [
    "df4 = pd.read_csv(\"out.csv\")\n",
    "# La verdad no recordé incluir los encabezados en el csv y ya mejor para terminar pronto el ejemplo, cambié solo el\n",
    "# nombre de columnas... Sorry :S\n",
    "df4.rename(columns={'37.2321108': \"lat\", '\\n            -121.7804504': \"lng\"}, inplace=True)\n",
    "df4.head()"
   ]
  },
  {
   "cell_type": "code",
   "execution_count": 25,
   "metadata": {},
   "outputs": [
    {
     "data": {
      "text/plain": [
       "(52, 2)"
      ]
     },
     "execution_count": 25,
     "metadata": {},
     "output_type": "execute_result"
    }
   ],
   "source": [
    "df5=df3.append(df4[df4.isin(df3) == False])\n",
    "df5.shape\n",
    "#Quedan un total de 50 ubicaciones que pudeiran serivr como referencia general."
   ]
  },
  {
   "cell_type": "code",
   "execution_count": 26,
   "metadata": {},
   "outputs": [
    {
     "data": {
      "text/html": [
       "<div style=\"width:100%;\"><div style=\"position:relative;width:100%;height:0;padding-bottom:60%;\"><iframe src=\"data:text/html;charset=utf-8;base64,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\" style=\"position:absolute;width:100%;height:100%;left:0;top:0;border:none !important;\" allowfullscreen webkitallowfullscreen mozallowfullscreen></iframe></div></div>"
      ],
      "text/plain": [
       "<folium.folium.Map at 0x189cfd12d08>"
      ]
     },
     "execution_count": 26,
     "metadata": {},
     "output_type": "execute_result"
    }
   ],
   "source": [
    "#Generamos el nuevo mapa de calor con las ubicaciones de las empresas que ya tenemos en total...\n",
    "map_us2=folium.Map(location=[39.359337,-99.415253])\n",
    "map_us2.add_child(plugins.HeatMap(df5))"
   ]
  },
  {
   "cell_type": "markdown",
   "metadata": {},
   "source": [
    "### Ya se oberva una mejora en el mapa de calor 🔥  y podemos seleccionar tres opciones"
   ]
  },
  {
   "cell_type": "code",
   "execution_count": 28,
   "metadata": {},
   "outputs": [
    {
     "data": {
      "text/html": [
       "<div style=\"width:100%;\"><div style=\"position:relative;width:100%;height:0;padding-bottom:60%;\"><iframe src=\"data:text/html;charset=utf-8;base64,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\" style=\"position:absolute;width:100%;height:100%;left:0;top:0;border:none !important;\" allowfullscreen webkitallowfullscreen mozallowfullscreen></iframe></div></div>"
      ],
      "text/plain": [
       "<folium.folium.Map at 0x189cfcfdf08>"
      ]
     },
     "execution_count": 28,
     "metadata": {},
     "output_type": "execute_result"
    }
   ],
   "source": [
    "map_us3=folium.Map(location=[39.359337,-99.415253])\n",
    "folium.CircleMarker([41.484743, -81.708414], radius=20, on=folium.Icon(), line_color='#92000a').add_to(map_us3)\n",
    "folium.CircleMarker([37.428093, -121.903618], radius=20, on=folium.Icon(), line_color='#92000a').add_to(map_us3)\n",
    "folium.CircleMarker([30.242966, -97.748338], radius=20, on=folium.Icon(), line_color='#92000a').add_to(map_us3)\n",
    "map_us3.add_child(plugins.HeatMap(df5))"
   ]
  },
  {
   "cell_type": "markdown",
   "metadata": {},
   "source": [
    "### Las ciudades que quedarían como opciones viables son: San josé, California; Austin, Texas; y Cleveland, Ohio, sin embargo, aún falta hacer el análisis detallado de las distancias ya que sea elegida una ciudad de las tres mecionadas."
   ]
  },
  {
   "cell_type": "code",
   "execution_count": null,
   "metadata": {},
   "outputs": [],
   "source": [
    "#Aqui faltaría el análisis de distancias ya selecta una ciudad....\n",
    "#Preciso rehacer la lectura del csv para incluir nombres de las empresas que incluí en el dataframe como adicionales....\n",
    "#"
   ]
  },
  {
   "cell_type": "markdown",
   "metadata": {},
   "source": [
    "### Generación de kml de prueba..."
   ]
  },
  {
   "cell_type": "code",
   "execution_count": 29,
   "metadata": {},
   "outputs": [],
   "source": [
    "#Genero un kml de prueba para ver si funciona con puntos varios, \n",
    "import simplekml\n",
    "\n",
    "kml = simplekml.Kml()\n",
    "latitudes=df5['lat'].tolist()\n",
    "longitudes=df5['lng'].tolist()\n",
    "\n",
    "for i in range(len(latitudes)):\n",
    "    pnt=kml.newpoint(name=\"Manuf\", coords=[(longitudes[i],latitudes[i])])  # lon, lat, optional height\n",
    "\n",
    "kml.save(\"Manufacturing_US_F.kml\")\n",
    "#Funciona bien :)#"
   ]
  }
 ],
 "metadata": {
  "kernelspec": {
   "display_name": "Python 3",
   "language": "python",
   "name": "python3"
  },
  "language_info": {
   "codemirror_mode": {
    "name": "ipython",
    "version": 3
   },
   "file_extension": ".py",
   "mimetype": "text/x-python",
   "name": "python",
   "nbconvert_exporter": "python",
   "pygments_lexer": "ipython3",
   "version": "3.7.4"
  }
 },
 "nbformat": 4,
 "nbformat_minor": 2
}
